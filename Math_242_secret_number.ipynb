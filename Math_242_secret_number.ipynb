{
  "nbformat": 4,
  "nbformat_minor": 0,
  "metadata": {
    "colab": {
      "name": "Copy of Math_242_secret_number.ipynb",
      "provenance": [],
      "include_colab_link": true
    },
    "kernelspec": {
      "name": "python3",
      "display_name": "Python 3"
    }
  },
  "cells": [
    {
      "cell_type": "markdown",
      "metadata": {
        "id": "view-in-github",
        "colab_type": "text"
      },
      "source": [
        "<a href=\"https://colab.research.google.com/github/brenden-klish/Linear_Algebra_Coding_projects/blob/main/Math_242_secret_number.ipynb\" target=\"_parent\"><img src=\"https://colab.research.google.com/assets/colab-badge.svg\" alt=\"Open In Colab\"/></a>"
      ]
    },
    {
      "cell_type": "markdown",
      "metadata": {
        "id": "Ry_o-kLL_-wf"
      },
      "source": [
        "# Load the preliminary code"
      ]
    },
    {
      "cell_type": "code",
      "metadata": {
        "id": "dhOLtwrRRc9S"
      },
      "source": [
        "import matplotlib.pyplot as plt\n",
        "from sympy import Poly\n",
        "import sympy as sym\n",
        "import numpy as np\n",
        "from numpy import c_\n",
        "\n",
        "# We'll specify that x and t are variables:\n",
        "x, t = sym.symbols('x, t')\n",
        "\n",
        "ll = \"loaded\""
      ],
      "execution_count": null,
      "outputs": []
    },
    {
      "cell_type": "code",
      "metadata": {
        "id": "AHRXKhal_Wcj",
        "colab": {
          "base_uri": "https://localhost:8080/"
        },
        "outputId": "bf756460-b401-409c-ef6e-a28339739d13"
      },
      "source": [
        "lll = \" correctly!\"\n",
        "\n",
        "def rref(matrix):\n",
        "    A = np.array(matrix, dtype=np.float64)\n",
        "    \n",
        "    r = 0 #row\n",
        "    c = 0 #column\n",
        "\n",
        "    (maxr, maxc) = A.shape\n",
        "\n",
        "    prev_row_pivot = -1   # The previous row with a leading term:\n",
        "    tmp_pivot_row = -1\n",
        "    this_pivot_row = -1\n",
        "\n",
        "    for c in range(maxc):  # go through each column\n",
        "      tmp_pivot_row = -1  # reset the tmp pivot row\n",
        "      this_pivot_row = -1  # reset this pivot row\n",
        "      for r in range(maxr):  # Find the leading term in this column below prev_row_pivot\n",
        "        if ((r > prev_row_pivot) and (A[r][c] != 0.0)):\n",
        "          tmp_pivot_row = r  # find the new pivot row\n",
        "      if (tmp_pivot_row > -1):  # we found a candidate for the leading term:\n",
        "        #swap row this_pivot_row with (prev_row_pivot + 1)\n",
        "        A[[tmp_pivot_row, prev_row_pivot+1]] = A[[prev_row_pivot + 1, tmp_pivot_row]]\n",
        "        #set this_pivot_row to prev_row_pivot+1\n",
        "        this_pivot_row = prev_row_pivot + 1\n",
        "        #Now, normalize the row based on the pivot value:\n",
        "        A[ this_pivot_row ] = A[ this_pivot_row ] / A[ this_pivot_row ][c]\n",
        "        #Then, use this row to force 0's above and below the pivot entry:\n",
        "        #subtract multiples of of the this_pivot_row row from the others\n",
        "        for r_ in range(len(A)):\n",
        "            if r_ != this_pivot_row:\n",
        "                A[r_] = A[r_] - A[this_pivot_row] * A[r_][c] / A[this_pivot_row][c]\n",
        "        prev_row_pivot = this_pivot_row\n",
        "    return A    \n",
        "    \n",
        "    \n",
        "\n",
        "print(\">> The page \", ll, lll)"
      ],
      "execution_count": null,
      "outputs": [
        {
          "output_type": "stream",
          "text": [
            ">> The page  loaded  correctly!\n"
          ],
          "name": "stdout"
        }
      ]
    },
    {
      "cell_type": "markdown",
      "metadata": {
        "id": "xVLAg1tp7aJX"
      },
      "source": [
        "# Set up the secret number"
      ]
    },
    {
      "cell_type": "markdown",
      "metadata": {
        "id": "2c12Csd440sV"
      },
      "source": [
        "You'll encode a secret number $s$ into a 4th or 5th degree polynomial as its vertical intercept.\n",
        "\n",
        "Once you've chosen $s$, then create a 4th or 5th degree polynomial $f$ such that the vertical intercept is $s$.\n"
      ]
    },
    {
      "cell_type": "code",
      "metadata": {
        "id": "bSeZFmS4vQWk",
        "colab": {
          "base_uri": "https://localhost:8080/",
          "height": 34
        },
        "outputId": "d94fac7a-1dbf-470b-a94e-2c45f539a6bd"
      },
      "source": [
        "# the secret number is s:\n",
        "\n",
        "s = 14\n",
        "\n",
        "p = Poly(14+2*x + 3*x**18, x, domain='RR')\n",
        "\n",
        "p"
      ],
      "execution_count": null,
      "outputs": [
        {
          "output_type": "execute_result",
          "data": {
            "text/plain": [
              "Poly(3.0*x**18 + 2.0*x + 14.0, x, domain='RR')"
            ]
          },
          "metadata": {
            "tags": []
          },
          "execution_count": 4
        }
      ]
    },
    {
      "cell_type": "code",
      "metadata": {
        "id": "buHLWqEJ5Hds",
        "colab": {
          "base_uri": "https://localhost:8080/",
          "height": 34
        },
        "outputId": "7c5515d5-7f25-4747-98c9-86a600503348"
      },
      "source": [
        "#  Evaluate polynomial at 0:\n",
        "p.eval(x, 2.1)\n",
        "\n",
        "# Check that this is your secret number:"
      ],
      "execution_count": null,
      "outputs": [
        {
          "output_type": "execute_result",
          "data": {
            "text/plain": [
              "1892660.57719015"
            ]
          },
          "metadata": {
            "tags": []
          },
          "execution_count": 5
        }
      ]
    },
    {
      "cell_type": "markdown",
      "metadata": {
        "id": "ls3V1Lrnyr2P"
      },
      "source": [
        "# Generate your data points\n",
        "\n",
        "Use this code to generate the data points for your polynomial.  Write teh data on the second page of your handout.  \n",
        "\n",
        "Writing \n",
        "\n",
        "```\n",
        "p.eval(x, 3)\n",
        "```\n",
        "\n",
        "will evaluate $p$ when $x = 3$.  Just change the $3$ to any value to evaluate $p$ at that input.\n",
        "\n",
        "Remember:  Keep your secret number and polynomial hidden."
      ]
    },
    {
      "cell_type": "code",
      "metadata": {
        "id": "5Ef1euoHynYu",
        "colab": {
          "base_uri": "https://localhost:8080/",
          "height": 34
        },
        "outputId": "d538b710-02eb-4536-f7b5-b3a1bf28b745"
      },
      "source": [
        "p.eval(x, 3)"
      ],
      "execution_count": null,
      "outputs": [
        {
          "output_type": "execute_result",
          "data": {
            "text/plain": [
              "1162261487.00000"
            ]
          },
          "metadata": {
            "tags": []
          },
          "execution_count": 6
        }
      ]
    },
    {
      "cell_type": "markdown",
      "metadata": {
        "id": "a6e9mXs-z3qV"
      },
      "source": [
        "#  Decode the polynomial from another group\n",
        "\n",
        "In this section, we set up a linear system to find the polynomial and the secret number which was given to us by another group.\n",
        "\n",
        "First, set up a linear algebra system to find the polynomial on the handout and then enter the matrix here.  You may have to adjust the size of the matrix below to accommodate your data."
      ]
    },
    {
      "cell_type": "code",
      "metadata": {
        "id": "aC4OSnZ20YDh",
        "colab": {
          "base_uri": "https://localhost:8080/"
        },
        "outputId": "7329b992-560a-4895-b9dd-7d6d6b3c2c4e"
      },
      "source": [
        "# create the matrix:\n",
        "A = np.matrix([[1, -2, 4, -8, 16],\n",
        "               [1,-1, 1, -1, 1],\n",
        "               [1, 1, 1, 1, 1],\n",
        "               [1, 2, 4, 8, 16],\n",
        "               [1, 5, 25, 125, 625]])\n",
        "\n",
        "            \n",
        "             \n",
        " \n",
        "# create the vector for the right hand side:\n",
        "b = np.matrix([[-152], [-56], [88], [232], [2536]])\n",
        "\n",
        "#Make sure the system looks appropriate:\n",
        "\n",
        "print(np.c_[A,b])\n"
      ],
      "execution_count": null,
      "outputs": [
        {
          "output_type": "stream",
          "text": [
            "[[   1   -2    4   -8   16 -152]\n",
            " [   1   -1    1   -1    1  -56]\n",
            " [   1    1    1    1    1   88]\n",
            " [   1    2    4    8   16  232]\n",
            " [   1    5   25  125  625 2536]]\n"
          ],
          "name": "stdout"
        }
      ]
    },
    {
      "cell_type": "markdown",
      "metadata": {
        "id": "EDZT8emc5iGZ"
      },
      "source": [
        "##  Solve using Row Operations:\n",
        "\n",
        "We'll solve the augmented matrix  $\\left( A \\, | \\, \\vec{b} \\right)$ using the function\n",
        "\n",
        "```\n",
        "rref(np.c_[A,b])\n",
        "```\n",
        "\n",
        "to provide the reduced row echelon form of the matrix system $\\left(A \\, | \\, \\vec{b} \\right)$.\n"
      ]
    },
    {
      "cell_type": "code",
      "metadata": {
        "id": "9Qhe2zZjYAVL",
        "colab": {
          "base_uri": "https://localhost:8080/"
        },
        "outputId": "e7286ed1-58fc-42f7-b41b-19ccd2e5fb16"
      },
      "source": [
        "print(rref(np.c_[A,b]))"
      ],
      "execution_count": null,
      "outputs": [
        {
          "output_type": "stream",
          "text": [
            "[[ 1.  0.  0.  0.  0. 16.]\n",
            " [ 0.  1.  0.  0.  0. 64.]\n",
            " [ 0.  0.  1.  0.  0. -2.]\n",
            " [ 0.  0.  0.  1.  0.  8.]\n",
            " [-0. -0. -0. -0.  1.  2.]]\n"
          ],
          "name": "stdout"
        }
      ]
    },
    {
      "cell_type": "markdown",
      "metadata": {
        "id": "6xHgTqYr1fuP"
      },
      "source": [
        "## Solve the system using numerical methods:\n",
        "\n",
        "We can also generate a solution using some more advanced numerical linear algebra techniques contained inside Numpy.\n",
        "\n",
        "To solve it this way, use:\n",
        "\n",
        "\n",
        "\n",
        "```\n",
        "np.linalg.solve(A,b)\n",
        "```\n",
        "\n"
      ]
    },
    {
      "cell_type": "code",
      "metadata": {
        "id": "769dXoztlBcx",
        "colab": {
          "base_uri": "https://localhost:8080/"
        },
        "outputId": "64103154-247e-403d-ea97-4ded3d31fc54"
      },
      "source": [
        "# Solve the system using a numerical linear algebra solution:\n",
        "np.linalg.solve(A,b)"
      ],
      "execution_count": null,
      "outputs": [
        {
          "output_type": "execute_result",
          "data": {
            "text/plain": [
              "matrix([[16.],\n",
              "        [64.],\n",
              "        [-2.],\n",
              "        [ 8.],\n",
              "        [ 2.]])"
            ]
          },
          "metadata": {
            "tags": []
          },
          "execution_count": 31
        }
      ]
    },
    {
      "cell_type": "code",
      "metadata": {
        "id": "crge2bdP12O0"
      },
      "source": [
        ""
      ],
      "execution_count": null,
      "outputs": []
    }
  ]
}